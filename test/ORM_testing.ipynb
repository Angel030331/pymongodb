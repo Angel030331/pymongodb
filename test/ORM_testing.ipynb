{
 "cells": [
  {
   "cell_type": "code",
   "execution_count": 2,
   "metadata": {},
   "outputs": [
    {
     "name": "stdout",
     "output_type": "stream",
     "text": [
      "Collecting sqlalchemy\n",
      "  Downloading SQLAlchemy-2.0.32-cp311-cp311-macosx_11_0_arm64.whl.metadata (9.6 kB)\n",
      "Requirement already satisfied: typing-extensions>=4.6.0 in /Users/onkiwong/miniconda3/lib/python3.11/site-packages (from sqlalchemy) (4.9.0)\n",
      "Downloading SQLAlchemy-2.0.32-cp311-cp311-macosx_11_0_arm64.whl (2.1 MB)\n",
      "\u001b[2K   \u001b[90m━━━━━━━━━━━━━━━━━━━━━━━━━━━━━━━━━━━━━━━━\u001b[0m \u001b[32m2.1/2.1 MB\u001b[0m \u001b[31m2.4 MB/s\u001b[0m eta \u001b[36m0:00:00\u001b[0m00:01\u001b[0m00:01\u001b[0mm\n",
      "\u001b[?25hInstalling collected packages: sqlalchemy\n",
      "Successfully installed sqlalchemy-2.0.32\n",
      "Collecting sqlalchemy.orm\n",
      "  Downloading sqlalchemy-orm-1.2.10.tar.gz (21 kB)\n",
      "  Preparing metadata (setup.py) ... \u001b[?25ldone\n",
      "\u001b[?25hRequirement already satisfied: SQLAlchemy in /Users/onkiwong/miniconda3/lib/python3.11/site-packages (from sqlalchemy.orm) (2.0.32)\n",
      "Collecting inflection (from sqlalchemy.orm)\n",
      "  Downloading inflection-0.5.1-py2.py3-none-any.whl.metadata (1.7 kB)\n",
      "Collecting cached-property (from sqlalchemy.orm)\n",
      "  Downloading cached_property-1.5.2-py2.py3-none-any.whl.metadata (11 kB)\n",
      "Collecting typing_inspect (from sqlalchemy.orm)\n",
      "  Downloading typing_inspect-0.9.0-py3-none-any.whl.metadata (1.5 kB)\n",
      "Requirement already satisfied: typing-extensions>=4.6.0 in /Users/onkiwong/miniconda3/lib/python3.11/site-packages (from SQLAlchemy->sqlalchemy.orm) (4.9.0)\n",
      "Collecting mypy-extensions>=0.3.0 (from typing_inspect->sqlalchemy.orm)\n",
      "  Downloading mypy_extensions-1.0.0-py3-none-any.whl.metadata (1.1 kB)\n",
      "Downloading cached_property-1.5.2-py2.py3-none-any.whl (7.6 kB)\n",
      "Downloading inflection-0.5.1-py2.py3-none-any.whl (9.5 kB)\n",
      "Downloading typing_inspect-0.9.0-py3-none-any.whl (8.8 kB)\n",
      "Downloading mypy_extensions-1.0.0-py3-none-any.whl (4.7 kB)\n",
      "Building wheels for collected packages: sqlalchemy.orm\n",
      "  Building wheel for sqlalchemy.orm (setup.py) ... \u001b[?25ldone\n",
      "\u001b[?25h  Created wheel for sqlalchemy.orm: filename=sqlalchemy_orm-1.2.10-py3-none-any.whl size=27266 sha256=534a0f4e1c960a5db302ca8036e5861d9c0f0a9f9fce19fab81591eeb1716a17\n",
      "  Stored in directory: /Users/onkiwong/Library/Caches/pip/wheels/d4/b0/27/9394422ce43e5fa9d17b52d40c40182022768449bfc9e06f57\n",
      "Successfully built sqlalchemy.orm\n",
      "Installing collected packages: cached-property, mypy-extensions, inflection, typing_inspect, sqlalchemy.orm\n",
      "Successfully installed cached-property-1.5.2 inflection-0.5.1 mypy-extensions-1.0.0 sqlalchemy.orm-1.2.10 typing_inspect-0.9.0\n"
     ]
    }
   ],
   "source": [
    "!pip install sqlalchemy\n",
    "!pip install sqlalchemy.orm"
   ]
  },
  {
   "cell_type": "code",
   "execution_count": 9,
   "metadata": {},
   "outputs": [],
   "source": [
    "from sqlalchemy import create_engine, String, Column, MetaData, Column, Integer, String, Table\n",
    "from sqlalchemy.ext.declarative import declarative_base\n",
    "from sqlalchemy.orm import sessionmaker\n",
    "from sqlalchemy.engine.reflection import Inspector"
   ]
  },
  {
   "cell_type": "code",
   "execution_count": 10,
   "metadata": {},
   "outputs": [
    {
     "name": "stdout",
     "output_type": "stream",
     "text": [
      "2024-08-19 14:06:00,939 INFO sqlalchemy.engine.Engine BEGIN (implicit)\n",
      "2024-08-19 14:06:00,939 INFO sqlalchemy.engine.Engine PRAGMA main.table_info(\"users\")\n",
      "2024-08-19 14:06:00,940 INFO sqlalchemy.engine.Engine [raw sql] ()\n",
      "2024-08-19 14:06:00,940 INFO sqlalchemy.engine.Engine PRAGMA temp.table_info(\"users\")\n",
      "2024-08-19 14:06:00,941 INFO sqlalchemy.engine.Engine [raw sql] ()\n",
      "2024-08-19 14:06:00,941 INFO sqlalchemy.engine.Engine PRAGMA main.table_info(\"posts\")\n",
      "2024-08-19 14:06:00,941 INFO sqlalchemy.engine.Engine [raw sql] ()\n",
      "2024-08-19 14:06:00,942 INFO sqlalchemy.engine.Engine PRAGMA temp.table_info(\"posts\")\n",
      "2024-08-19 14:06:00,942 INFO sqlalchemy.engine.Engine [raw sql] ()\n",
      "2024-08-19 14:06:00,943 INFO sqlalchemy.engine.Engine \n",
      "CREATE TABLE users (\n",
      "\tid VARCHAR NOT NULL, \n",
      "\tusername VARCHAR NOT NULL, \n",
      "\tfullname VARCHAR NOT NULL, \n",
      "\tpassword VARCHAR NOT NULL, \n",
      "\tPRIMARY KEY (id, username, fullname, password)\n",
      ")\n",
      "\n",
      "\n",
      "2024-08-19 14:06:00,944 INFO sqlalchemy.engine.Engine [no key 0.00039s] ()\n",
      "2024-08-19 14:06:00,945 INFO sqlalchemy.engine.Engine \n",
      "CREATE TABLE posts (\n",
      "\tid INTEGER NOT NULL, \n",
      "\ttitle VARCHAR, \n",
      "\tcontent VARCHAR, \n",
      "\tuser_id INTEGER, \n",
      "\tPRIMARY KEY (id)\n",
      ")\n",
      "\n",
      "\n",
      "2024-08-19 14:06:00,945 INFO sqlalchemy.engine.Engine [no key 0.00033s] ()\n",
      "2024-08-19 14:06:00,946 INFO sqlalchemy.engine.Engine COMMIT\n"
     ]
    },
    {
     "name": "stderr",
     "output_type": "stream",
     "text": [
      "/var/folders/hp/1f2kx0yn63l6lrjckzc3kc3m0000gn/T/ipykernel_8847/3855592448.py:6: MovedIn20Warning: The ``declarative_base()`` function is now available as sqlalchemy.orm.declarative_base(). (deprecated since: 2.0) (Background on SQLAlchemy 2.0 at: https://sqlalche.me/e/b8d9)\n",
      "  base = declarative_base()\n"
     ]
    }
   ],
   "source": [
    "# establish connection to database & define data mode\n",
    "engine = create_engine('sqlite:////Users/onkiwong/Documents/GitHub/Python-SQL-Project-19-Aug-2024/test/test.db',\n",
    "                       echo=True)\n",
    "\n",
    "# Create a base class for declarative class definitions\n",
    "base = declarative_base()\n",
    "\n",
    "# Define the ORM model class for tables\n",
    "class Users(base):\n",
    "    __tablename__ = 'users'\n",
    "    id = Column(String, primary_key=True)\n",
    "    username = Column(String, primary_key=True)\n",
    "    fullname = Column(String, primary_key=True)\n",
    "    password = Column(String, primary_key=True)\n",
    "\n",
    "    def __repr__(self):\n",
    "        return \"<User(name='%s', fullname='%s', password='%s')>\" % (\n",
    "            self.username, self.fullname, self.password)\n",
    "    \n",
    "class Post(base):\n",
    "    __tablename__ = 'posts'\n",
    "\n",
    "    id = Column(Integer, primary_key=True)\n",
    "    title = Column(String)\n",
    "    content = Column(String)\n",
    "    user_id = Column(Integer)\n",
    "\n",
    "# Create the tables in the database\n",
    "base.metadata.create_all(engine)\n",
    "\n",
    "# create session\n",
    "Session = sessionmaker(bind=engine)\n",
    "session = Session()"
   ]
  },
  {
   "cell_type": "code",
   "execution_count": 19,
   "metadata": {},
   "outputs": [
    {
     "name": "stdout",
     "output_type": "stream",
     "text": [
      "2024-08-19 14:14:13,732 INFO sqlalchemy.engine.Engine BEGIN (implicit)\n",
      "2024-08-19 14:14:13,740 INFO sqlalchemy.engine.Engine SELECT name FROM sqlite_master WHERE type='table' AND name NOT LIKE 'sqlite~_%' ESCAPE '~' ORDER BY name\n",
      "2024-08-19 14:14:13,742 INFO sqlalchemy.engine.Engine [raw sql] ()\n",
      "2024-08-19 14:14:13,747 INFO sqlalchemy.engine.Engine ROLLBACK\n",
      "Table: posts\n",
      "2024-08-19 14:14:13,753 INFO sqlalchemy.engine.Engine BEGIN (implicit)\n",
      "2024-08-19 14:14:13,755 INFO sqlalchemy.engine.Engine PRAGMA main.table_xinfo(\"posts\")\n",
      "2024-08-19 14:14:13,757 INFO sqlalchemy.engine.Engine [raw sql] ()\n",
      "2024-08-19 14:14:13,758 INFO sqlalchemy.engine.Engine ROLLBACK\n",
      "Column: id\n",
      "Column: title\n",
      "Column: content\n",
      "Column: user_id\n",
      "\n",
      "Table: users\n",
      "2024-08-19 14:14:13,759 INFO sqlalchemy.engine.Engine BEGIN (implicit)\n",
      "2024-08-19 14:14:13,760 INFO sqlalchemy.engine.Engine PRAGMA main.table_xinfo(\"users\")\n",
      "2024-08-19 14:14:13,761 INFO sqlalchemy.engine.Engine [raw sql] ()\n",
      "2024-08-19 14:14:13,766 INFO sqlalchemy.engine.Engine ROLLBACK\n",
      "Column: id\n",
      "Column: username\n",
      "Column: fullname\n",
      "Column: password\n",
      "\n"
     ]
    },
    {
     "name": "stderr",
     "output_type": "stream",
     "text": [
      "/var/folders/hp/1f2kx0yn63l6lrjckzc3kc3m0000gn/T/ipykernel_8847/1478186897.py:8: SADeprecationWarning: The from_engine() method on Inspector is deprecated and will be removed in a future release.  Please use the sqlalchemy.inspect() function on an Engine or Connection in order to acquire an Inspector. (deprecated since: 1.4)\n",
      "  self.inspector = Inspector.from_engine(engine)\n"
     ]
    }
   ],
   "source": [
    "# the base.metadata object is a registry that stores mappings of classes to tables\n",
    "# we can retrieve the metadata\n",
    "from sqlalchemy import create_engine\n",
    "from sqlalchemy.engine.reflection import Inspector\n",
    "\n",
    "class meta_retriever:\n",
    "    def __init__(self, engine):\n",
    "        self.inspector = Inspector.from_engine(engine)\n",
    "        self.get_tables(engine)\n",
    "\n",
    "    def get_tables(self, engine):\n",
    "        for table_name in self.inspector.get_table_names():\n",
    "            print(f\"Table: {table_name}\")\n",
    "            for column in self.inspector.get_columns(table_name):\n",
    "                print(f\"Column: {column['name']}\")\n",
    "\n",
    "            print()\n",
    "\n",
    "# Instantiate the meta_retriever class\n",
    "metadata = meta_retriever(engine)\n",
    "  "
   ]
  },
  {
   "cell_type": "code",
   "execution_count": 21,
   "metadata": {},
   "outputs": [
    {
     "name": "stdout",
     "output_type": "stream",
     "text": [
      "2024-08-19 14:15:28,219 INFO sqlalchemy.engine.Engine BEGIN (implicit)\n",
      "2024-08-19 14:15:28,221 INFO sqlalchemy.engine.Engine INSERT INTO users (id, username, fullname, password) VALUES (?, ?, ?, ?)\n",
      "2024-08-19 14:15:28,222 INFO sqlalchemy.engine.Engine [generated in 0.00059s] ('1', 'onkiwong', 'On Ki Wong', 'password')\n",
      "2024-08-19 14:15:28,223 INFO sqlalchemy.engine.Engine COMMIT\n",
      "2024-08-19 14:15:28,225 INFO sqlalchemy.engine.Engine BEGIN (implicit)\n",
      "2024-08-19 14:15:28,226 INFO sqlalchemy.engine.Engine INSERT INTO posts (title, content, user_id) VALUES (?, ?, ?)\n",
      "2024-08-19 14:15:28,226 INFO sqlalchemy.engine.Engine [generated in 0.00031s] ('First Post', 'Hello World!', 1)\n",
      "2024-08-19 14:15:28,227 INFO sqlalchemy.engine.Engine COMMIT\n",
      "Table: posts\n",
      "Column: id\n",
      "Column: title\n",
      "Column: content\n",
      "Column: user_id\n",
      "\n",
      "Table: users\n",
      "Column: id\n",
      "Column: username\n",
      "Column: fullname\n",
      "Column: password\n",
      "\n"
     ]
    }
   ],
   "source": [
    "# insert data\n",
    "# create a new user\n",
    "new_user = Users(id='1', username='onkiwong', fullname='On Ki Wong', password='password')\n",
    "session.add(new_user)\n",
    "session.commit()\n",
    "\n",
    "# create a new post\n",
    "new_post = Post(title='First Post', content='Hello World!', user_id=1)\n",
    "session.add(new_post)\n",
    "session.commit()\n",
    "\n",
    "# view the tables\n",
    "metadata.get_tables(engine)"
   ]
  },
  {
   "cell_type": "code",
   "execution_count": 39,
   "metadata": {},
   "outputs": [
    {
     "name": "stdout",
     "output_type": "stream",
     "text": [
      "2024-08-19 14:35:51,207 INFO sqlalchemy.engine.Engine SELECT users.id AS users_id, users.username AS users_username, users.fullname AS users_fullname, users.password AS users_password \n",
      "FROM users\n",
      "2024-08-19 14:35:51,208 INFO sqlalchemy.engine.Engine [cached since 9.272s ago] ()\n",
      "<User(name='onkiwong', fullname='On Ki Wong', password='password')>\n"
     ]
    }
   ],
   "source": [
    "for line in session.query(Users).all():\n",
    "    print(line)"
   ]
  },
  {
   "cell_type": "code",
   "execution_count": 40,
   "metadata": {},
   "outputs": [
    {
     "name": "stdout",
     "output_type": "stream",
     "text": [
      "2024-08-19 14:48:37,108 INFO sqlalchemy.engine.Engine INSERT INTO users (id, username, fullname, password) VALUES (?, ?, ?, ?)\n",
      "2024-08-19 14:48:37,109 INFO sqlalchemy.engine.Engine [cached since 1989s ago] ('1', 'b', 'def', '456')\n",
      "2024-08-19 14:48:37,111 INFO sqlalchemy.engine.Engine COMMIT\n",
      "2024-08-19 14:48:37,113 INFO sqlalchemy.engine.Engine BEGIN (implicit)\n",
      "2024-08-19 14:48:37,114 INFO sqlalchemy.engine.Engine INSERT INTO users (id, username, fullname, password) VALUES (?, ?, ?, ?)\n",
      "2024-08-19 14:48:37,114 INFO sqlalchemy.engine.Engine [cached since 1989s ago] ('2', 'c', 'ghi', '789')\n",
      "2024-08-19 14:48:37,115 INFO sqlalchemy.engine.Engine COMMIT\n",
      "2024-08-19 14:48:37,116 INFO sqlalchemy.engine.Engine BEGIN (implicit)\n",
      "2024-08-19 14:48:37,117 INFO sqlalchemy.engine.Engine INSERT INTO users (id, username, fullname, password) VALUES (?, ?, ?, ?)\n",
      "2024-08-19 14:48:37,117 INFO sqlalchemy.engine.Engine [cached since 1989s ago] ('3', 'd', 'jkl', '012')\n",
      "2024-08-19 14:48:37,118 INFO sqlalchemy.engine.Engine COMMIT\n",
      "2024-08-19 14:48:37,119 INFO sqlalchemy.engine.Engine BEGIN (implicit)\n",
      "2024-08-19 14:48:37,119 INFO sqlalchemy.engine.Engine INSERT INTO users (id, username, fullname, password) VALUES (?, ?, ?, ?)\n",
      "2024-08-19 14:48:37,119 INFO sqlalchemy.engine.Engine [cached since 1989s ago] ('4', 'e', 'mno', '345')\n",
      "2024-08-19 14:48:37,120 INFO sqlalchemy.engine.Engine COMMIT\n",
      "2024-08-19 14:48:37,121 INFO sqlalchemy.engine.Engine BEGIN (implicit)\n",
      "2024-08-19 14:48:37,122 INFO sqlalchemy.engine.Engine INSERT INTO users (id, username, fullname, password) VALUES (?, ?, ?, ?)\n",
      "2024-08-19 14:48:37,122 INFO sqlalchemy.engine.Engine [cached since 1989s ago] ('5', 'f', 'pqr', '678')\n",
      "2024-08-19 14:48:37,124 INFO sqlalchemy.engine.Engine COMMIT\n",
      "2024-08-19 14:48:37,126 INFO sqlalchemy.engine.Engine BEGIN (implicit)\n",
      "2024-08-19 14:48:37,127 INFO sqlalchemy.engine.Engine INSERT INTO users (id, username, fullname, password) VALUES (?, ?, ?, ?)\n",
      "2024-08-19 14:48:37,127 INFO sqlalchemy.engine.Engine [cached since 1989s ago] ('6', 'g', 'stu', '901')\n",
      "2024-08-19 14:48:37,128 INFO sqlalchemy.engine.Engine COMMIT\n",
      "2024-08-19 14:48:37,129 INFO sqlalchemy.engine.Engine BEGIN (implicit)\n",
      "2024-08-19 14:48:37,129 INFO sqlalchemy.engine.Engine INSERT INTO users (id, username, fullname, password) VALUES (?, ?, ?, ?)\n",
      "2024-08-19 14:48:37,129 INFO sqlalchemy.engine.Engine [cached since 1989s ago] ('7', 'h', 'vwx', '234')\n",
      "2024-08-19 14:48:37,130 INFO sqlalchemy.engine.Engine COMMIT\n",
      "2024-08-19 14:48:37,131 INFO sqlalchemy.engine.Engine BEGIN (implicit)\n",
      "2024-08-19 14:48:37,131 INFO sqlalchemy.engine.Engine INSERT INTO users (id, username, fullname, password) VALUES (?, ?, ?, ?)\n",
      "2024-08-19 14:48:37,131 INFO sqlalchemy.engine.Engine [cached since 1989s ago] ('8', 'i', 'yza', '567')\n",
      "2024-08-19 14:48:37,132 INFO sqlalchemy.engine.Engine COMMIT\n",
      "2024-08-19 14:48:37,135 INFO sqlalchemy.engine.Engine BEGIN (implicit)\n",
      "2024-08-19 14:48:37,135 INFO sqlalchemy.engine.Engine INSERT INTO users (id, username, fullname, password) VALUES (?, ?, ?, ?)\n",
      "2024-08-19 14:48:37,136 INFO sqlalchemy.engine.Engine [cached since 1989s ago] ('9', 'j', 'bcd', '890')\n",
      "2024-08-19 14:48:37,137 INFO sqlalchemy.engine.Engine COMMIT\n",
      "2024-08-19 14:48:37,138 INFO sqlalchemy.engine.Engine BEGIN (implicit)\n",
      "2024-08-19 14:48:37,138 INFO sqlalchemy.engine.Engine SELECT users.id AS users_id, users.username AS users_username, users.fullname AS users_fullname, users.password AS users_password \n",
      "FROM users\n",
      "2024-08-19 14:48:37,139 INFO sqlalchemy.engine.Engine [cached since 775.2s ago] ()\n",
      "<User(name='onkiwong', fullname='On Ki Wong', password='password')>\n",
      "<User(name='b', fullname='def', password='456')>\n",
      "<User(name='c', fullname='ghi', password='789')>\n",
      "<User(name='d', fullname='jkl', password='012')>\n",
      "<User(name='e', fullname='mno', password='345')>\n",
      "<User(name='f', fullname='pqr', password='678')>\n",
      "<User(name='g', fullname='stu', password='901')>\n",
      "<User(name='h', fullname='vwx', password='234')>\n",
      "<User(name='i', fullname='yza', password='567')>\n",
      "<User(name='j', fullname='bcd', password='890')>\n"
     ]
    }
   ],
   "source": [
    "# multiple insert\n",
    "\n",
    "import random\n",
    "username_ls = ['a', 'b', 'c', 'd', 'e', 'f', 'g', 'h', 'i', 'j']\n",
    "fullname_ls = ['abc', 'def', 'ghi', 'jkl', 'mno', 'pqr', 'stu', 'vwx', 'yza', 'bcd']\n",
    "pw_ls = ['123', '456', '789', '012', '345', '678', '901', '234', '567', '890']\n",
    "for i in range(1, 10):\n",
    "    new_user = Users(id=str(i), username=username_ls[i], fullname=fullname_ls[i], password=pw_ls[i])\n",
    "    session.add(new_user)\n",
    "    session.commit()\n",
    "\n",
    "for line in session.query(Users).all():\n",
    "    print(line)"
   ]
  }
 ],
 "metadata": {
  "kernelspec": {
   "display_name": "base",
   "language": "python",
   "name": "python3"
  },
  "language_info": {
   "codemirror_mode": {
    "name": "ipython",
    "version": 3
   },
   "file_extension": ".py",
   "mimetype": "text/x-python",
   "name": "python",
   "nbconvert_exporter": "python",
   "pygments_lexer": "ipython3",
   "version": "3.11.7"
  }
 },
 "nbformat": 4,
 "nbformat_minor": 2
}
